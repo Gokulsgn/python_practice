{
 "cells": [
  {
   "cell_type": "code",
   "execution_count": 1,
   "metadata": {},
   "outputs": [
    {
     "name": "stdout",
     "output_type": "stream",
     "text": [
      "12\n"
     ]
    }
   ],
   "source": [
    "x = 5\n",
    "y = 7\n",
    "z = x + y\n",
    "print(z) "
   ]
  },
  {
   "cell_type": "code",
   "execution_count": 3,
   "metadata": {},
   "outputs": [
    {
     "name": "stdout",
     "output_type": "stream",
     "text": [
      "20\n",
      "3.14159\n"
     ]
    }
   ],
   "source": [
    "x = 10\n",
    "x = 20 \n",
    "print(x)\n",
    "\n",
    "PI = 3.14159\n",
    "print(PI) "
   ]
  },
  {
   "cell_type": "code",
   "execution_count": 4,
   "metadata": {},
   "outputs": [
    {
     "name": "stdout",
     "output_type": "stream",
     "text": [
      "H\n"
     ]
    }
   ],
   "source": [
    "my_string = \"Hello, world!\"\n",
    "print(my_string[0])"
   ]
  },
  {
   "cell_type": "code",
   "execution_count": 5,
   "metadata": {},
   "outputs": [
    {
     "name": "stdout",
     "output_type": "stream",
     "text": [
      "<class 'int'>\n",
      "<class 'str'>\n",
      "<class 'list'>\n"
     ]
    }
   ],
   "source": [
    "# Initially, my_var is assigned an integer value\n",
    "my_var = 10\n",
    "print(type(my_var))  # Output: <class 'int'>\n",
    "\n",
    "# Now, my_var is assigned a string value\n",
    "my_var = \"Hello, world!\"\n",
    "print(type(my_var))  # Output: <class 'str'>\n",
    "\n",
    "# Now, my_var is assigned a list\n",
    "my_var = [1, 2, 3]\n",
    "print(type(my_var))"
   ]
  },
  {
   "cell_type": "code",
   "execution_count": 6,
   "metadata": {},
   "outputs": [
    {
     "name": "stdout",
     "output_type": "stream",
     "text": [
      "True\n",
      "False\n",
      "True\n"
     ]
    }
   ],
   "source": [
    "# Using the `==` operator\n",
    "a = [1, 2, 3]\n",
    "b = [1, 2, 3]\n",
    "print(a == b)  # Output: True, because the values in both lists are equal\n",
    "\n",
    "# Using the `is` operator\n",
    "print(a is b)  # Output: False, because `a` and `b` are different objects in memory\n",
    "\n",
    "# Assigning the same object to another variable\n",
    "c = a\n",
    "print(a is c)"
   ]
  },
  {
   "cell_type": "code",
   "execution_count": 7,
   "metadata": {},
   "outputs": [
    {
     "name": "stdout",
     "output_type": "stream",
     "text": [
      "False\n",
      "True\n",
      "True\n"
     ]
    }
   ],
   "source": [
    "a = True\n",
    "b = False\n",
    "\n",
    "print(not a)  # Output: False, because `not True` is `False`\n",
    "print(not b)  # Output: True, because `not False` is `True`\n",
    "\n",
    "# Another example with a condition\n",
    "x = 5\n",
    "print(not x > 10)"
   ]
  },
  {
   "cell_type": "code",
   "execution_count": 8,
   "metadata": {},
   "outputs": [
    {
     "name": "stdout",
     "output_type": "stream",
     "text": [
      "20\n",
      "3.14159\n"
     ]
    }
   ],
   "source": [
    "x = 10\n",
    "x = 20  # The value of x can change\n",
    "print(x) \n",
    "\n",
    "PI = 3.14159\n",
    "# Although Python does not enforce constants, the convention is to use uppercase letters\n",
    "# to indicate that the value should not be changed.\n",
    "print(PI)"
   ]
  },
  {
   "cell_type": "code",
   "execution_count": 9,
   "metadata": {},
   "outputs": [
    {
     "name": "stdout",
     "output_type": "stream",
     "text": [
      "The area of the rectangle is: 20\n"
     ]
    }
   ],
   "source": [
    "# Assigning values to variables\n",
    "length = 4\n",
    "width = 5\n",
    "\n",
    "# Calculating the area\n",
    "area = length * width\n",
    "\n",
    "# Printing the result\n",
    "print(\"The area of the rectangle is:\", area)"
   ]
  },
  {
   "cell_type": "code",
   "execution_count": 10,
   "metadata": {},
   "outputs": [
    {
     "name": "stdout",
     "output_type": "stream",
     "text": [
      "Value of my_float: 3.14159\n",
      "Data type of my_float: <class 'float'>\n"
     ]
    }
   ],
   "source": [
    "my_float = 3.14159\n",
    "\n",
    "# Printing the variable and its data type\n",
    "print(\"Value of my_float:\", my_float)\n",
    "print(\"Data type of my_float:\", type(my_float))"
   ]
  },
  {
   "cell_type": "code",
   "execution_count": 11,
   "metadata": {},
   "outputs": [
    {
     "name": "stdout",
     "output_type": "stream",
     "text": [
      "The sum of 10 and 20 is: 30\n"
     ]
    }
   ],
   "source": [
    "# Assigning values to variables\n",
    "num1 = 10\n",
    "num2 = 20\n",
    "\n",
    "# Calculating the sum\n",
    "sum_result = num1 + num2\n",
    "\n",
    "# Printing the result\n",
    "print(\"The sum of\", num1, \"and\", num2, \"is:\", sum_result)"
   ]
  },
  {
   "cell_type": "code",
   "execution_count": 12,
   "metadata": {},
   "outputs": [
    {
     "name": "stdout",
     "output_type": "stream",
     "text": [
      "The average of 10 , 20 , and 30 is: 20.0\n"
     ]
    }
   ],
   "source": [
    "# Assigning values to variables\n",
    "num1 = 10\n",
    "num2 = 20\n",
    "num3 = 30\n",
    "\n",
    "# Calculating the average\n",
    "average = (num1 + num2 + num3) / 3\n",
    "\n",
    "# Printing the result\n",
    "print(\"The average of\", num1, \",\", num2, \", and\", num3, \"is:\", average)"
   ]
  },
  {
   "cell_type": "code",
   "execution_count": 13,
   "metadata": {},
   "outputs": [
    {
     "name": "stdout",
     "output_type": "stream",
     "text": [
      "3\n",
      "1\n"
     ]
    }
   ],
   "source": [
    "result1 = 15 % 4\n",
    "print(result1)  \n",
    "result2 = 10 % 3\n",
    "print(result2)"
   ]
  },
  {
   "cell_type": "code",
   "execution_count": 14,
   "metadata": {},
   "outputs": [
    {
     "name": "stdout",
     "output_type": "stream",
     "text": [
      "False\n",
      "True\n"
     ]
    }
   ],
   "source": [
    "a = [1, 2, 3]\n",
    "b = [1, 2, 3]\n",
    "c = a\n",
    "\n",
    "print(a is b)  \n",
    "print(a is c)"
   ]
  },
  {
   "cell_type": "code",
   "execution_count": 15,
   "metadata": {},
   "outputs": [
    {
     "name": "stdout",
     "output_type": "stream",
     "text": [
      "After swapping:\n",
      "x = 10\n",
      "y = 5\n"
     ]
    }
   ],
   "source": [
    "x = 5\n",
    "y = 10\n",
    "\n",
    "# Swapping using a temporary variable\n",
    "temp = x\n",
    "x = y\n",
    "y = temp\n",
    "\n",
    "# Printing the swapped values\n",
    "print(\"After swapping:\")\n",
    "print(\"x =\", x)\n",
    "print(\"y =\", y)"
   ]
  },
  {
   "cell_type": "code",
   "execution_count": 16,
   "metadata": {},
   "outputs": [
    {
     "name": "stdout",
     "output_type": "stream",
     "text": [
      "True\n",
      "False\n",
      "True\n",
      "False\n"
     ]
    }
   ],
   "source": [
    "a = 5\n",
    "b = 10\n",
    "c = 15\n",
    "\n",
    "result1 = (a < b) and (b < c)\n",
    "print(result1)  # Output: True, because both conditions (a < b) and (b < c) are True\n",
    "\n",
    "result2 = (a < b) and (b > c)\n",
    "print(result2)  # Output: False, because (b > c) is False even though (a < b) is True\n",
    "\n",
    "# Using the `or` operator\n",
    "x = 5\n",
    "y = 10\n",
    "z = 15\n",
    "\n",
    "result3 = (x > y) or (y < z)\n",
    "print(result3)  # Output: True, because at least one of the conditions (x > y) or (y < z) is True\n",
    "\n",
    "result4 = (x > y) or (y > z)\n",
    "print(result4)"
   ]
  },
  {
   "cell_type": "code",
   "execution_count": 17,
   "metadata": {},
   "outputs": [
    {
     "name": "stdout",
     "output_type": "stream",
     "text": [
      "False\n",
      "True\n",
      "True\n"
     ]
    }
   ],
   "source": [
    "x = True\n",
    "print(not x)  # Output: False, because `x` is True, and `not True` is False\n",
    "\n",
    "# Example 2\n",
    "y = False\n",
    "print(not y)  # Output: True, because `y` is False, and `not False` is True\n",
    "\n",
    "# Example 3\n",
    "num = 10\n",
    "print(not num > 15)"
   ]
  }
 ],
 "metadata": {
  "kernelspec": {
   "display_name": "Python 3",
   "language": "python",
   "name": "python3"
  },
  "language_info": {
   "codemirror_mode": {
    "name": "ipython",
    "version": 3
   },
   "file_extension": ".py",
   "mimetype": "text/x-python",
   "name": "python",
   "nbconvert_exporter": "python",
   "pygments_lexer": "ipython3",
   "version": "3.12.4"
  }
 },
 "nbformat": 4,
 "nbformat_minor": 2
}
