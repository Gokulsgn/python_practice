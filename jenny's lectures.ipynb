{
 "cells": [
  {
   "cell_type": "code",
   "execution_count": 1,
   "metadata": {},
   "outputs": [
    {
     "name": "stdout",
     "output_type": "stream",
     "text": [
      "gokulnath\n"
     ]
    }
   ],
   "source": [
    "print(\"gokulnath\")"
   ]
  },
  {
   "cell_type": "code",
   "execution_count": 2,
   "metadata": {},
   "outputs": [
    {
     "name": "stdout",
     "output_type": "stream",
     "text": [
      "4\n"
     ]
    }
   ],
   "source": [
    "L = [2,3,[4,5]]\n",
    "print(L[2][0])"
   ]
  },
  {
   "cell_type": "code",
   "execution_count": 9,
   "metadata": {},
   "outputs": [
    {
     "name": "stdout",
     "output_type": "stream",
     "text": [
      "g\n",
      "Gokulnath\n"
     ]
    }
   ],
   "source": [
    "x = int(input(\"enter the number\"))\n",
    "if x<50:\n",
    "    print(\"g\")\n",
    "    if x<20:\n",
    "        print(\"Gokulnath\")\n",
    "    elif 50<x<70:\n",
    "        print(\"s\")\n",
    "    else:\n",
    "        print(\"Iron man\")\n"
   ]
  },
  {
   "cell_type": "code",
   "execution_count": 1,
   "metadata": {},
   "outputs": [
    {
     "name": "stdout",
     "output_type": "stream",
     "text": [
      "Gokul Nath\n"
     ]
    }
   ],
   "source": [
    "print(\"Gokul\"+\" \"+\"Nath\")"
   ]
  },
  {
   "cell_type": "code",
   "execution_count": 5,
   "metadata": {},
   "outputs": [
    {
     "name": "stdout",
     "output_type": "stream",
     "text": [
      "Hello Gokul, how are you?\n"
     ]
    }
   ],
   "source": [
    "print(\"Hello \"+input(\"what is your name?\")+\",\"+\" how are you?\")"
   ]
  }
 ],
 "metadata": {
  "kernelspec": {
   "display_name": "Python 3",
   "language": "python",
   "name": "python3"
  },
  "language_info": {
   "codemirror_mode": {
    "name": "ipython",
    "version": 3
   },
   "file_extension": ".py",
   "mimetype": "text/x-python",
   "name": "python",
   "nbconvert_exporter": "python",
   "pygments_lexer": "ipython3",
   "version": "3.12.4"
  }
 },
 "nbformat": 4,
 "nbformat_minor": 2
}
