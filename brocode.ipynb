{
 "cells": [
  {
   "cell_type": "code",
   "execution_count": 5,
   "metadata": {},
   "outputs": [
    {
     "name": "stdout",
     "output_type": "stream",
     "text": [
      "your are 21 years old\n",
      "your are  21  years old\n",
      "your are 21 years old\n"
     ]
    }
   ],
   "source": [
    "age = 21\n",
    "print(\"your are \"+str(age)+\" years old\")\n",
    "print(\"your are \",age,\" years old\")\n",
    "print(f\"your are {age} years old\")\n"
   ]
  },
  {
   "cell_type": "code",
   "execution_count": 1,
   "metadata": {},
   "outputs": [
    {
     "name": "stdout",
     "output_type": "stream",
     "text": [
      "your are 21 years old\n",
      "they are 2 players online\n",
      "you would like to buy 5 items\n"
     ]
    }
   ],
   "source": [
    "age = 21\n",
    "players = 2\n",
    "quantity = 5\n",
    "\n",
    "print(f\"your are {age} years old\")\n",
    "print(f\"they are {players} players online\")\n",
    "print(f\"you would like to buy {quantity} items\")\n",
    "\n",
    "\n",
    "\n"
   ]
  },
  {
   "cell_type": "code",
   "execution_count": 2,
   "metadata": {},
   "outputs": [
    {
     "name": "stdout",
     "output_type": "stream",
     "text": [
      "Your gpa is 3.2\n",
      "Your ran 3.2Km\n",
      "The price is $3.2\n"
     ]
    }
   ],
   "source": [
    "gpa = 3.2\n",
    "distance = 2.5\n",
    "price = 10.99\n",
    "\n",
    "print(f\"Your gpa is {gpa}\")\n",
    "print(f\"Your ran {gpa}Km\")\n",
    "print(f\"The price is ${gpa}\")\n"
   ]
  },
  {
   "cell_type": "code",
   "execution_count": 5,
   "metadata": {},
   "outputs": [
    {
     "name": "stdout",
     "output_type": "stream",
     "text": [
      "Hello Renuka\n",
      "You like food Curd Rice\n",
      "Youremail is : gokulnathrenuka@gmail.com\n"
     ]
    }
   ],
   "source": [
    "name = \"Renuka\"\n",
    "food = \"Curd Rice\"\n",
    "email = \"gokulnathrenuka@gmail.com\"\n",
    "\n",
    "print(f\"Hello {name}\")\n",
    "print(f\"You like food {food}\")\n",
    "print(f\"Youremail is : {email}\")"
   ]
  },
  {
   "cell_type": "code",
   "execution_count": 7,
   "metadata": {},
   "outputs": [
    {
     "name": "stdout",
     "output_type": "stream",
     "text": [
      "Are you online?: True\n",
      "Is the item for sale?: False\n",
      "Game running: True\n"
     ]
    }
   ],
   "source": [
    "online = True\n",
    "for_sale = False\n",
    "running = True\n",
    "\n",
    "print(f\"Are you online?: {online}\")\n",
    "print(f\"Is the item for sale?: {for_sale}\")\n",
    "print(f\"Game running: {running}\")"
   ]
  },
  {
   "cell_type": "code",
   "execution_count": 10,
   "metadata": {},
   "outputs": [
    {
     "name": "stdout",
     "output_type": "stream",
     "text": [
      "9\n",
      "9\n",
      "9\n",
      "2\n",
      "5\n",
      "4\n"
     ]
    }
   ],
   "source": [
    "x = y = z = 9\n",
    "a=2\n",
    "b=5\n",
    "c=4\n",
    "print(x)\n",
    "print(y)\n",
    "print(z)\n",
    "print(a)\n",
    "print(b)\n",
    "print(c)\n"
   ]
  }
 ],
 "metadata": {
  "kernelspec": {
   "display_name": "Python 3",
   "language": "python",
   "name": "python3"
  },
  "language_info": {
   "codemirror_mode": {
    "name": "ipython",
    "version": 3
   },
   "file_extension": ".py",
   "mimetype": "text/x-python",
   "name": "python",
   "nbconvert_exporter": "python",
   "pygments_lexer": "ipython3",
   "version": "3.12.4"
  }
 },
 "nbformat": 4,
 "nbformat_minor": 2
}
